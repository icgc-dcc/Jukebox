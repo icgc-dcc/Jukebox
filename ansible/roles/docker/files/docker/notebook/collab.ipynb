{
 "cells": [
  {
   "cell_type": "markdown",
   "metadata": {},
   "source": [
    "# Collaboratory Data File Access"
   ]
  },
  {
   "cell_type": "markdown",
   "metadata": {},
   "source": [
    "### **Step 1**: In the menu below Jupyter Notebook, goto **File -> Open** \n",
    "\n",
    "A new tab or window will open in your browser. "
   ]
  },
  {
   "cell_type": "markdown",
   "metadata": {},
   "source": [
    "## **Step 2**: **Go into the new window**, and **click on** _'icgc-storage-client'_, **then** _'conf'_, **then** _'application.properties'_.\n",
    "\n",
    "The window will turn into a file editor, with the contents of the application.properties file ready for you to edit."
   ]
  },
  {
   "cell_type": "markdown",
   "metadata": {},
   "source": [
    "## Step 3: In the editor window, remove the '#' and space in front of the line that says '# accessToken='. \n",
    "\n",
    "After you do, the word 'accessToken' will turn blue."
   ]
  },
  {
   "cell_type": "markdown",
   "metadata": {},
   "source": [
    "## Step 4: Open a new browser window to https://dcc.icgc.org. We're going to get an access token to put into our file.\n",
    "\n",
    "Once you're logged in, **click on** 'Token Manager', and select the scope '_collab.download_'. Click **Generate**.\n",
    "\n",
    "**Copy and paste your token** into the window with the editor that's got your _'application.properties'_ file in it, so that the line now reads: 'accessToken' (in blue), followed by '=', followed by your access token (in green).\n",
    "\n",
    "Click **File -> Save** in the window with the editor to save your changes to the _'application.properties'_ file."
   ]
  },
  {
   "cell_type": "markdown",
   "metadata": {},
   "source": [
    "## Step 5: Your configuration is complete!\n",
    "To try out your new access, come back to this window, and follow the steps below!\n",
    "\n",
    "**Click in the box below**, and then click **'Run'** (near the top of the page) once for each line below, and watch\n",
    "it mount collaboratory for you!"
   ]
  },
  {
   "cell_type": "code",
   "execution_count": 1,
   "metadata": {},
   "outputs": [],
   "source": [
    "import os"
   ]
  },
  {
   "cell_type": "code",
   "execution_count": 2,
   "metadata": {},
   "outputs": [],
   "source": [
    "os.environ['PATH'] += ':/home/jovyan/icgc-storage-client/bin'\n",
    "os.environ['STORAGE_PROFILE'] = 'collab'"
   ]
  },
  {
   "cell_type": "code",
   "execution_count": 3,
   "metadata": {},
   "outputs": [
    {
     "name": "stdout",
     "output_type": "stream",
     "text": [
      "/opt/conda/bin:/usr/local/sbin:/usr/local/bin:/usr/sbin:/usr/bin:/sbin:/bin:/home/jovyan/icgc-storage-client/bin\r\n"
     ]
    }
   ],
   "source": [
    "!echo $PATH"
   ]
  },
  {
   "cell_type": "code",
   "execution_count": 4,
   "metadata": {},
   "outputs": [
    {
     "name": "stdout",
     "output_type": "stream",
     "text": [
      "                                                                                \n",
      "\u001b[32m> \u001b[m\u001b[1mICGC \u001b[22mStorage Client\n",
      "\n",
      "\u001b[32m  Active Configuration: \u001b[m\n",
      "    Profile:          collab\n",
      "    Storage Endpoint: \u001b[34;4mhttps://storage.cancercollaboratory.org\u001b[m\n",
      "    Access Token:     52c57c1c-3c03-4e20-a159-0ff3d34004e0\n"
     ]
    }
   ],
   "source": [
    "!icgc-storage-client info"
   ]
  },
  {
   "cell_type": "code",
   "execution_count": null,
   "metadata": {},
   "outputs": [
    {
     "name": "stdout",
     "output_type": "stream",
     "text": [
      "\u001b[32mSuccessfully mounted file system at \u001b[1m/home/jovyan/collab\u001b[22m and is now ready for use.\u001b[m\n",
      "Open a new terminal for interaction or relaunch with \u001b[1m--daemonize\u001b[m to put in background"
     ]
    }
   ],
   "source": [
    "!icgc-storage-client mount --cache-metadata --mount-point collab "
   ]
  },
  {
   "cell_type": "code",
   "execution_count": null,
   "metadata": {},
   "outputs": [],
   "source": []
  }
 ],
 "metadata": {
  "kernelspec": {
   "display_name": "Python 3",
   "language": "python",
   "name": "python3"
  },
  "language_info": {
   "codemirror_mode": {
    "name": "ipython",
    "version": 3
   },
   "file_extension": ".py",
   "mimetype": "text/x-python",
   "name": "python",
   "nbconvert_exporter": "python",
   "pygments_lexer": "ipython3",
   "version": "3.6.3"
  }
 },
 "nbformat": 4,
 "nbformat_minor": 2
}
