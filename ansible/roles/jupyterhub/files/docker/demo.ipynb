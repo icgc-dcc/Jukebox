{
 "cells": [
  {
   "cell_type": "markdown",
   "metadata": {},
   "source": [
    "   # Here's a little demo of Jupyter notebooks and the ICGC Collaboratory"
   ]
  },
  {
   "cell_type": "markdown",
   "metadata": {},
   "source": [
    "_The icgc and overture-song python packages are automatically installed for you, so you can just import them, and start using them! Here's a simple demonstration of what you can do with the icgc module._"
   ]
  },
  {
   "cell_type": "code",
   "execution_count": null,
   "metadata": {},
   "outputs": [],
   "source": [
    "import icgc"
   ]
  },
  {
   "cell_type": "code",
   "execution_count": null,
   "metadata": {
    "scrolled": true
   },
   "outputs": [],
   "source": [
    "print(icgc.request_types())"
   ]
  },
  {
   "cell_type": "markdown",
   "metadata": {},
   "source": [
    "_Request a single donor record, and print out the results_"
   ]
  },
  {
   "cell_type": "code",
   "execution_count": null,
   "metadata": {},
   "outputs": [],
   "source": [
    "donors=icgc.query(request_type='donors', pql='select(*),limit(1)')\n",
    "print(donors)"
   ]
  },
  {
   "cell_type": "markdown",
   "metadata": {},
   "source": [
    "_Now let's look at a record for genes..._"
   ]
  },
  {
   "cell_type": "code",
   "execution_count": null,
   "metadata": {},
   "outputs": [],
   "source": [
    "genes=icgc.query(request_type='genes', pql='select(*),limit(1)')\n",
    "print(genes)"
   ]
  },
  {
   "cell_type": "markdown",
   "metadata": {},
   "source": [
    "_And now, let's look at one for mutations..._ "
   ]
  },
  {
   "cell_type": "code",
   "execution_count": null,
   "metadata": {},
   "outputs": [],
   "source": [
    "mutations=icgc.query(request_type='mutations', pql='select(*),limit(1)')\n",
    "print(mutations)"
   ]
  },
  {
   "cell_type": "markdown",
   "metadata": {},
   "source": [
    "_And here's one for occurences!_"
   ]
  },
  {
   "cell_type": "code",
   "execution_count": null,
   "metadata": {},
   "outputs": [],
   "source": [
    "ocurrences=icgc.query(request_type='occurrences', pql='select(*),limit(1)')\n",
    "print(ocurrences)                    "
   ]
  },
  {
   "cell_type": "markdown",
   "metadata": {},
   "source": [
    "_Get a count of the available donor data by cancer site_"
   ]
  },
  {
   "cell_type": "code",
   "execution_count": null,
   "metadata": {
    "scrolled": true
   },
   "outputs": [],
   "source": [
    "cancerSites=icgc.query(request_type='donors', pql='count(),facets(primarySite)')\n",
    "print(cancerSites)"
   ]
  },
  {
   "cell_type": "markdown",
   "metadata": {},
   "source": [
    "## Here's a more advanced demonstration "
   ]
  },
  {
   "cell_type": "markdown",
   "metadata": {},
   "source": [
    "_Take our data for cancer sites, and extract the labels and the corresponding values_"
   ]
  },
  {
   "cell_type": "code",
   "execution_count": null,
   "metadata": {},
   "outputs": [],
   "source": [
    "import numpy as np\n",
    "import matplotlib.pyplot as plt\n",
    "import json\n"
   ]
  },
  {
   "cell_type": "markdown",
   "metadata": {},
   "source": [
    "_Import python graphing libraries_"
   ]
  },
  {
   "cell_type": "code",
   "execution_count": null,
   "metadata": {},
   "outputs": [],
   "source": [
    "data=json.loads(cancerSites)[\"primarySite\"][\"terms\"]\n",
    "\n",
    "labels=map(lambda x:x[\"term\"],data)\n",
    "numbers=map(lambda x:x[\"count\"],data)\n"
   ]
  },
  {
   "cell_type": "markdown",
   "metadata": {},
   "source": [
    "_Draw a bar chart of our results_"
   ]
  },
  {
   "cell_type": "code",
   "execution_count": null,
   "metadata": {},
   "outputs": [],
   "source": [
    "n=len(data)\n",
    "fig, ax = plt.subplots(figsize=(25,10))\n",
    "index = np.arange(n)\n",
    "\n",
    "bar_width = 0.9\n",
    "opacity = 0.4\n",
    "ax.set_title('Cancer Data Availability by Donor Type')\n",
    "ax.set_xticks(index)\n",
    "ax.set_xticklabels(labels)\n",
    "\n",
    "rects1 = ax.bar(index, numbers, bar_width,\n",
    "                alpha=opacity, color='b')\n",
    "fig.tight_layout()\n",
    "plt.show()"
   ]
  }
 ],
 "metadata": {
  "kernelspec": {
   "display_name": "Python 3",
   "language": "python",
   "name": "python3"
  },
  "language_info": {
   "codemirror_mode": {
    "name": "ipython",
    "version": 3
   },
   "file_extension": ".py",
   "mimetype": "text/x-python",
   "name": "python",
   "nbconvert_exporter": "python",
   "pygments_lexer": "ipython3",
   "version": "3.6.3"
  }
 },
 "nbformat": 4,
 "nbformat_minor": 2
}
