{
 "cells": [
  {
   "cell_type": "markdown",
   "metadata": {},
   "source": [
    "# Collaboratory Data File Access"
   ]
  },
  {
   "cell_type": "markdown",
   "metadata": {},
   "source": [
    "Step 1: In the menu below Jupyter Notebook, goto File -> Open. \n",
    "\n",
    "A new tab or window will open in your browser. Go into the new window, and click on 'icgc-storage-client', then 'conf', then 'application.properties'.\n",
    "\n",
    "The window will turn into a file editor, with the contents of the application.properties file ready for you to edit."
   ]
  },
  {
   "cell_type": "markdown",
   "metadata": {},
   "source": [
    "Step 2: In the editor window, remove the '#' and space in front of the line that says '# accessToken='. Once you do so, the words will turn blue."
   ]
  },
  {
   "cell_type": "markdown",
   "metadata": {},
   "source": [
    "Step 3: Open a new browser window to https://dcc.icgc.org. We're going to get an access token to put into our file.\n",
    "\n",
    "If you see 'Login' on the right hand side of the page, click it, and log in. Once you're logged in, click on 'Token Manager', and then create an access token with the scope '_collab.download_'. \n",
    "\n",
    "Copy and paste your token into the application.properties file, so that the blue line now reads: 'accessToken=', followed by your access token. \n",
    "\n",
    "Click File -> Save to save your changes to the file."
   ]
  },
  {
   "cell_type": "markdown",
   "metadata": {},
   "source": [
    "Step 4: Click in the box below, and then click 'Run' (near the top of the page). It will mount collaboratory for you, and give you a listing of all the available files."
   ]
  },
  {
   "cell_type": "code",
   "execution_count": 17,
   "metadata": {},
   "outputs": [],
   "source": [
    "import os"
   ]
  },
  {
   "cell_type": "code",
   "execution_count": 21,
   "metadata": {},
   "outputs": [],
   "source": [
    "os.environ['PATH'] += ':/home/jovyan/icgc-storage-client/bin'"
   ]
  },
  {
   "cell_type": "code",
   "execution_count": 22,
   "metadata": {},
   "outputs": [
    {
     "name": "stdout",
     "output_type": "stream",
     "text": [
      "/opt/conda/bin:/usr/local/sbin:/usr/local/bin:/usr/sbin:/usr/bin:/sbin:/bin~/icgc-storage-client/bin:~/icgc-storage-client/bin:/home/jovyan/icgc-storage-client/bin\r\n"
     ]
    }
   ],
   "source": [
    "!echo $PATH"
   ]
  },
  {
   "cell_type": "code",
   "execution_count": 23,
   "metadata": {},
   "outputs": [
    {
     "name": "stdout",
     "output_type": "stream",
     "text": [
      "Starting...[ERROR] Failed to construct terminal; falling back to unsupported\n",
      "java.io.IOException: Cannot run program \"sh\": error=2, No such file or directory\n",
      "\tat java.lang.ProcessBuilder.start(ProcessBuilder.java:1048)\n",
      "\tat jline.internal.TerminalLineSettings.exec(TerminalLineSettings.java:308)\n",
      "\tat jline.internal.TerminalLineSettings.stty(TerminalLineSettings.java:282)\n",
      "\tat jline.internal.TerminalLineSettings.get(TerminalLineSettings.java:143)\n",
      "\tat jline.internal.TerminalLineSettings.<init>(TerminalLineSettings.java:108)\n",
      "\tat jline.internal.TerminalLineSettings.getSettings(TerminalLineSettings.java:123)\n",
      "\tat jline.UnixTerminal.<init>(UnixTerminal.java:59)\n",
      "\tat jline.UnixTerminal.<init>(UnixTerminal.java:49)\n",
      "\tat sun.reflect.NativeConstructorAccessorImpl.newInstance0(Native Method)\n",
      "\tat sun.reflect.NativeConstructorAccessorImpl.newInstance(NativeConstructorAccessorImpl.java:62)\n",
      "\tat sun.reflect.DelegatingConstructorAccessorImpl.newInstance(DelegatingConstructorAccessorImpl.java:45)\n",
      "\tat java.lang.reflect.Constructor.newInstance(Constructor.java:423)\n",
      "\tat java.lang.Class.newInstance(Class.java:442)\n",
      "\tat jline.TerminalFactory.getFlavor(TerminalFactory.java:209)\n",
      "\tat jline.TerminalFactory.create(TerminalFactory.java:100)\n",
      "\tat jline.TerminalFactory.get(TerminalFactory.java:184)\n",
      "\tat jline.TerminalFactory.get(TerminalFactory.java:190)\n",
      "\tat org.icgc.dcc.storage.client.cli.Terminal.<init>(Terminal.java:46)\n",
      "\tat sun.reflect.NativeConstructorAccessorImpl.newInstance0(Native Method)\n",
      "\tat sun.reflect.NativeConstructorAccessorImpl.newInstance(NativeConstructorAccessorImpl.java:62)\n",
      "\tat sun.reflect.DelegatingConstructorAccessorImpl.newInstance(DelegatingConstructorAccessorImpl.java:45)\n",
      "\tat java.lang.reflect.Constructor.newInstance(Constructor.java:423)\n",
      "\tat org.springframework.beans.BeanUtils.instantiateClass(BeanUtils.java:142)\n",
      "\tat org.springframework.beans.factory.support.SimpleInstantiationStrategy.instantiate(SimpleInstantiationStrategy.java:122)\n",
      "\tat org.springframework.beans.factory.support.ConstructorResolver.autowireConstructor(ConstructorResolver.java:271)\n",
      "\tat org.springframework.beans.factory.support.AbstractAutowireCapableBeanFactory.autowireConstructor(AbstractAutowireCapableBeanFactory.java:1148)\n",
      "\tat org.springframework.beans.factory.support.AbstractAutowireCapableBeanFactory.createBeanInstance(AbstractAutowireCapableBeanFactory.java:1051)\n",
      "\tat org.springframework.beans.factory.support.AbstractAutowireCapableBeanFactory.doCreateBean(AbstractAutowireCapableBeanFactory.java:510)\n",
      "\tat org.springframework.beans.factory.support.AbstractAutowireCapableBeanFactory.createBean(AbstractAutowireCapableBeanFactory.java:482)\n",
      "\tat org.springframework.beans.factory.support.AbstractBeanFactory$1.getObject(AbstractBeanFactory.java:306)\n",
      "\tat org.springframework.beans.factory.support.DefaultSingletonBeanRegistry.getSingleton(DefaultSingletonBeanRegistry.java:230)\n",
      "\tat org.springframework.beans.factory.support.AbstractBeanFactory.doGetBean(AbstractBeanFactory.java:302)\n",
      "\tat org.springframework.beans.factory.support.AbstractBeanFactory.getBean(AbstractBeanFactory.java:202)\n",
      "\tat org.springframework.beans.factory.config.DependencyDescriptor.resolveCandidate(DependencyDescriptor.java:207)\n",
      "\tat org.springframework.beans.factory.support.DefaultListableBeanFactory.doResolveDependency(DefaultListableBeanFactory.java:1128)\n",
      "\tat org.springframework.beans.factory.support.DefaultListableBeanFactory.resolveDependency(DefaultListableBeanFactory.java:1056)\n",
      "\tat org.springframework.beans.factory.annotation.AutowiredAnnotationBeanPostProcessor$AutowiredFieldElement.inject(AutowiredAnnotationBeanPostProcessor.java:566)\n",
      "\tat org.springframework.beans.factory.annotation.InjectionMetadata.inject(InjectionMetadata.java:88)\n",
      "\tat org.springframework.beans.factory.annotation.AutowiredAnnotationBeanPostProcessor.postProcessPropertyValues(AutowiredAnnotationBeanPostProcessor.java:349)\n",
      "\tat org.springframework.beans.factory.support.AbstractAutowireCapableBeanFactory.populateBean(AbstractAutowireCapableBeanFactory.java:1219)\n",
      "\tat org.springframework.beans.factory.support.AbstractAutowireCapableBeanFactory.doCreateBean(AbstractAutowireCapableBeanFactory.java:543)\n",
      "\tat org.springframework.beans.factory.support.AbstractAutowireCapableBeanFactory.createBean(AbstractAutowireCapableBeanFactory.java:482)\n",
      "\tat org.springframework.beans.factory.support.AbstractBeanFactory$1.getObject(AbstractBeanFactory.java:306)\n",
      "\tat org.springframework.beans.factory.support.DefaultSingletonBeanRegistry.getSingleton(DefaultSingletonBeanRegistry.java:230)\n",
      "\tat org.springframework.beans.factory.support.AbstractBeanFactory.doGetBean(AbstractBeanFactory.java:302)\n",
      "\tat org.springframework.beans.factory.support.AbstractBeanFactory.getBean(AbstractBeanFactory.java:197)\n",
      "\tat org.springframework.beans.factory.support.DefaultListableBeanFactory.preInstantiateSingletons(DefaultListableBeanFactory.java:751)\n",
      "\tat org.springframework.context.support.AbstractApplicationContext.finishBeanFactoryInitialization(AbstractApplicationContext.java:861)\n",
      "\tat org.springframework.context.support.AbstractApplicationContext.refresh(AbstractApplicationContext.java:541)\n",
      "\tat org.springframework.boot.SpringApplication.refresh(SpringApplication.java:761)\n",
      "\tat org.springframework.boot.SpringApplication.refreshContext(SpringApplication.java:371)\n",
      "\tat org.springframework.boot.SpringApplication.run(SpringApplication.java:315)\n",
      "\tat org.springframework.boot.builder.SpringApplicationBuilder.run(SpringApplicationBuilder.java:134)\n",
      "\tat org.icgc.dcc.storage.client.ClientMain.main(ClientMain.java:109)\n",
      "\tat sun.reflect.NativeMethodAccessorImpl.invoke0(Native Method)\n",
      "\tat sun.reflect.NativeMethodAccessorImpl.invoke(NativeMethodAccessorImpl.java:62)\n",
      "\tat sun.reflect.DelegatingMethodAccessorImpl.invoke(DelegatingMethodAccessorImpl.java:43)\n",
      "\tat java.lang.reflect.Method.invoke(Method.java:498)\n",
      "\tat org.springframework.boot.loader.MainMethodRunner.run(MainMethodRunner.java:48)\n",
      "\tat org.springframework.boot.loader.Launcher.launch(Launcher.java:87)\n",
      "\tat org.springframework.boot.loader.Launcher.launch(Launcher.java:50)\n",
      "\tat org.springframework.boot.loader.JarLauncher.main(JarLauncher.java:58)\n",
      "Caused by: java.io.IOException: error=2, No such file or directory\n",
      "\tat java.lang.UNIXProcess.forkAndExec(Native Method)\n",
      "\tat java.lang.UNIXProcess.<init>(UNIXProcess.java:247)\n",
      "\tat java.lang.ProcessImpl.start(ProcessImpl.java:134)\n",
      "\tat java.lang.ProcessBuilder.start(ProcessBuilder.java:1029)\n",
      "\t... 61 more\n",
      "\n",
      "                                                                                \n",
      "\u001b[32m> \u001b[m\u001b[1mICGC \u001b[22mStorage Client\n",
      "\n",
      "\u001b[32m  Active Configuration: \u001b[m\n",
      "    Profile:          aws\n",
      "    Storage Endpoint: \u001b[34;4mhttps://virginia.cloud.icgc.org\u001b[m\n",
      "    Access Token:     52c57c1c-3c03-4e20-a159-0ff3d34004e0\n"
     ]
    }
   ],
   "source": [
    "!icgc-storage-client info"
   ]
  },
  {
   "cell_type": "code",
   "execution_count": null,
   "metadata": {},
   "outputs": [],
   "source": []
  }
 ],
 "metadata": {
  "kernelspec": {
   "display_name": "Python 3",
   "language": "python",
   "name": "python3"
  },
  "language_info": {
   "codemirror_mode": {
    "name": "ipython",
    "version": 3
   },
   "file_extension": ".py",
   "mimetype": "text/x-python",
   "name": "python",
   "nbconvert_exporter": "python",
   "pygments_lexer": "ipython3",
   "version": "3.6.3"
  }
 },
 "nbformat": 4,
 "nbformat_minor": 2
}
