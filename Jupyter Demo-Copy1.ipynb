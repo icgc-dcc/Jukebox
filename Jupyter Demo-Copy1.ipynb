{
 "cells": [
  {
   "cell_type": "markdown",
   "metadata": {},
   "source": [
    "# Step 1: Install the icgc module"
   ]
  },
  {
   "cell_type": "code",
   "execution_count": 1,
   "metadata": {},
   "outputs": [
    {
     "name": "stdout",
     "output_type": "stream",
     "text": [
      "\u001b[31mCannot uninstall requirement icgc, not installed\u001b[0m\n",
      "^C\n"
     ]
    }
   ],
   "source": [
    "!yes | pip uninstall icgc"
   ]
  },
  {
   "cell_type": "code",
   "execution_count": 2,
   "metadata": {},
   "outputs": [
    {
     "name": "stdout",
     "output_type": "stream",
     "text": [
      "Collecting icgc\n",
      "  Downloading icgc-0.1.3-py2.py3-none-any.whl\n",
      "Requirement already satisfied: requests in ./demo/lib/python2.7/site-packages (from icgc)\n",
      "Requirement already satisfied: idna<2.7,>=2.5 in ./demo/lib/python2.7/site-packages (from requests->icgc)\n",
      "Requirement already satisfied: urllib3<1.23,>=1.21.1 in ./demo/lib/python2.7/site-packages (from requests->icgc)\n",
      "Requirement already satisfied: certifi>=2017.4.17 in ./demo/lib/python2.7/site-packages (from requests->icgc)\n",
      "Requirement already satisfied: chardet<3.1.0,>=3.0.2 in ./demo/lib/python2.7/site-packages (from requests->icgc)\n",
      "Installing collected packages: icgc\n",
      "Successfully installed icgc-0.1.3\n"
     ]
    }
   ],
   "source": [
    "!pip install icgc"
   ]
  },
  {
   "cell_type": "markdown",
   "metadata": {},
   "source": [
    "_Now we should have the lastest version of the icgc code_"
   ]
  },
  {
   "cell_type": "code",
   "execution_count": 8,
   "metadata": {},
   "outputs": [],
   "source": [
    "## Step 2: Import it"
   ]
  },
  {
   "cell_type": "code",
   "execution_count": 9,
   "metadata": {},
   "outputs": [],
   "source": [
    "import icgc"
   ]
  },
  {
   "cell_type": "markdown",
   "metadata": {},
   "source": [
    "**Temporary** _Configure the icgc module to use the portal server running on my laptop_\n",
    "\n",
    "**Note** _Only needed until once the new portal server with the PQL enhancements is in production_"
   ]
  },
  {
   "cell_type": "code",
   "execution_count": 10,
   "metadata": {},
   "outputs": [],
   "source": [
    "icgc.BASE_URL=\"http://localhost:8080/api/v1/\""
   ]
  },
  {
   "cell_type": "markdown",
   "metadata": {},
   "source": [
    "## Step 3: Use it!"
   ]
  },
  {
   "cell_type": "markdown",
   "metadata": {},
   "source": [
    "_Get a list of all the types of queries requests we can make_"
   ]
  },
  {
   "cell_type": "code",
   "execution_count": 11,
   "metadata": {
    "scrolled": true
   },
   "outputs": [
    {
     "name": "stdout",
     "output_type": "stream",
     "text": [
      "[u'donors', u'genes', u'mutations', u'occurrences']\n"
     ]
    }
   ],
   "source": [
    "print(icgc.request_types())"
   ]
  },
  {
   "cell_type": "markdown",
   "metadata": {},
   "source": [
    "_Request a single donor record, and print out the results_"
   ]
  },
  {
   "cell_type": "code",
   "execution_count": 12,
   "metadata": {},
   "outputs": [
    {
     "name": "stdout",
     "output_type": "stream",
     "text": [
      "[\n",
      "    {\n",
      "        \"ageAtDiagnosis\": 76, \n",
      "        \"ageAtDiagnosisGroup\": \"70 - 79\", \n",
      "        \"analysisTypes\": [\n",
      "            \"WGS\"\n",
      "        ], \n",
      "        \"availableDataTypes\": [\n",
      "            \"ssm\", \n",
      "            \"stsm\"\n",
      "        ], \n",
      "        \"cnsmExists\": false, \n",
      "        \"expArrayExists\": false, \n",
      "        \"expSeqExists\": false, \n",
      "        \"gender\": \"male\", \n",
      "        \"id\": \"DO222843\", \n",
      "        \"jcnExists\": false, \n",
      "        \"methArrayExists\": false, \n",
      "        \"methSeqExists\": false, \n",
      "        \"mirnaSeqExists\": false, \n",
      "        \"pexpExists\": false, \n",
      "        \"primarySite\": \"Skin\", \n",
      "        \"projectId\": \"MELA-AU\", \n",
      "        \"sgvExists\": false, \n",
      "        \"ssmCount\": 964360, \n",
      "        \"state\": \"live\", \n",
      "        \"stsmExists\": true, \n",
      "        \"studies\": [], \n",
      "        \"survivalTime\": 907, \n",
      "        \"tumourStageAtDiagnosis\": \"IIC\", \n",
      "        \"vitalStatus\": \"deceased\"\n",
      "    }\n",
      "]\n"
     ]
    }
   ],
   "source": [
    "donors=icgc.query(request_type='donors', pql='select(*),limit(1)')\n",
    "print(donors)"
   ]
  },
  {
   "cell_type": "markdown",
   "metadata": {},
   "source": [
    "_Now let's look at a record for genes..._"
   ]
  },
  {
   "cell_type": "code",
   "execution_count": 13,
   "metadata": {},
   "outputs": [
    {
     "name": "stdout",
     "output_type": "stream",
     "text": [
      "[\n",
      "    {\n",
      "        \"affectedDonorCountTotal\": 4573, \n",
      "        \"chromosome\": \"8\", \n",
      "        \"description\": \"\", \n",
      "        \"end\": 4852494, \n",
      "        \"externalDbIds\": {\n",
      "            \"entrez_gene\": [\n",
      "                \"64478\"\n",
      "            ], \n",
      "            \"hgnc\": [\n",
      "                \"14026\"\n",
      "            ], \n",
      "            \"omim_gene\": [\n",
      "                \"608397\"\n",
      "            ], \n",
      "            \"uniprotkb_swissprot\": []\n",
      "        }, \n",
      "        \"id\": \"ENSG00000183117\", \n",
      "        \"name\": \"CUB and Sushi multiple domains 1\", \n",
      "        \"start\": 2792875, \n",
      "        \"strand\": -1, \n",
      "        \"symbol\": \"CSMD1\", \n",
      "        \"type\": \"protein_coding\"\n",
      "    }\n",
      "]\n"
     ]
    }
   ],
   "source": [
    "genes=icgc.query(request_type='genes', pql='select(*),limit(1)')\n",
    "print(genes)"
   ]
  },
  {
   "cell_type": "markdown",
   "metadata": {},
   "source": [
    "_And now, let's look at one for mutations..._ "
   ]
  },
  {
   "cell_type": "code",
   "execution_count": 14,
   "metadata": {},
   "outputs": [
    {
     "name": "stdout",
     "output_type": "stream",
     "text": [
      "[\n",
      "    {\n",
      "        \"affectedDonorCountTotal\": 598, \n",
      "        \"affectedProjectCount\": 15, \n",
      "        \"assemblyVersion\": \"GRCh37\", \n",
      "        \"chromosome\": \"7\", \n",
      "        \"end\": 140453136, \n",
      "        \"functionalImpact\": [\n",
      "            \"High\", \n",
      "            \"Unknown\", \n",
      "            \"Unknown\", \n",
      "            \"Unknown\"\n",
      "        ], \n",
      "        \"id\": \"MU62030\", \n",
      "        \"mutation\": \"A>T\", \n",
      "        \"referenceGenomeAllele\": \"A\", \n",
      "        \"start\": 140453136, \n",
      "        \"study\": [\n",
      "            \"PCAWG\", \n",
      "            \"PCAWG\", \n",
      "            \"PCAWG\", \n",
      "            \"PCAWG\", \n",
      "            \"PCAWG\", \n",
      "            \"PCAWG\", \n",
      "            \"PCAWG\", \n",
      "            \"PCAWG\", \n",
      "            \"PCAWG\", \n",
      "            \"PCAWG\", \n",
      "            \"PCAWG\", \n",
      "            \"PCAWG\", \n",
      "            \"PCAWG\", \n",
      "            \"PCAWG\", \n",
      "            \"PCAWG\", \n",
      "            \"PCAWG\", \n",
      "            \"PCAWG\", \n",
      "            \"PCAWG\", \n",
      "            \"PCAWG\", \n",
      "            \"PCAWG\", \n",
      "            \"PCAWG\", \n",
      "            \"PCAWG\", \n",
      "            \"PCAWG\", \n",
      "            \"PCAWG\", \n",
      "            \"PCAWG\", \n",
      "            \"PCAWG\", \n",
      "            \"PCAWG\", \n",
      "            \"PCAWG\", \n",
      "            \"PCAWG\", \n",
      "            \"PCAWG\", \n",
      "            \"PCAWG\", \n",
      "            \"PCAWG\", \n",
      "            \"PCAWG\", \n",
      "            \"PCAWG\", \n",
      "            \"PCAWG\", \n",
      "            \"PCAWG\", \n",
      "            \"PCAWG\", \n",
      "            \"PCAWG\", \n",
      "            \"PCAWG\", \n",
      "            \"PCAWG\", \n",
      "            \"PCAWG\", \n",
      "            \"PCAWG\", \n",
      "            \"PCAWG\", \n",
      "            \"PCAWG\", \n",
      "            \"PCAWG\", \n",
      "            \"PCAWG\", \n",
      "            \"PCAWG\", \n",
      "            \"PCAWG\", \n",
      "            \"PCAWG\", \n",
      "            \"PCAWG\", \n",
      "            \"PCAWG\", \n",
      "            \"PCAWG\", \n",
      "            \"PCAWG\", \n",
      "            \"PCAWG\", \n",
      "            \"PCAWG\", \n",
      "            \"PCAWG\", \n",
      "            \"PCAWG\", \n",
      "            \"PCAWG\", \n",
      "            \"PCAWG\", \n",
      "            \"PCAWG\", \n",
      "            \"PCAWG\", \n",
      "            \"PCAWG\", \n",
      "            \"PCAWG\"\n",
      "        ], \n",
      "        \"testedDonorCount\": 3361, \n",
      "        \"transcripts\": [\n",
      "            {\n",
      "                \"consequence\": {\n",
      "                    \"functionalImpact\": \"High\", \n",
      "                    \"type\": \"missense_variant\"\n",
      "                }, \n",
      "                \"functionalImpact\": \"High\", \n",
      "                \"id\": \"ENST00000288602\"\n",
      "            }, \n",
      "            {\n",
      "                \"consequence\": {\n",
      "                    \"functionalImpact\": \"Unknown\", \n",
      "                    \"type\": \"exon_variant\"\n",
      "                }, \n",
      "                \"functionalImpact\": \"Unknown\", \n",
      "                \"id\": \"ENST00000479537\"\n",
      "            }, \n",
      "            {\n",
      "                \"consequence\": {\n",
      "                    \"functionalImpact\": \"Unknown\", \n",
      "                    \"type\": \"missense_variant\"\n",
      "                }, \n",
      "                \"functionalImpact\": \"Unknown\", \n",
      "                \"id\": \"ENST00000496384\"\n",
      "            }, \n",
      "            {\n",
      "                \"consequence\": {\n",
      "                    \"functionalImpact\": \"Unknown\", \n",
      "                    \"type\": \"3_prime_UTR_variant\"\n",
      "                }, \n",
      "                \"functionalImpact\": \"Unknown\", \n",
      "                \"id\": \"ENST00000497784\"\n",
      "            }\n",
      "        ], \n",
      "        \"type\": \"single base substitution\"\n",
      "    }\n",
      "]\n"
     ]
    }
   ],
   "source": [
    "mutations=icgc.query(request_type='mutations', pql='select(*),limit(1)')\n",
    "print(mutations)"
   ]
  },
  {
   "cell_type": "markdown",
   "metadata": {},
   "source": [
    "_And here's one for occurences!_"
   ]
  },
  {
   "cell_type": "code",
   "execution_count": 15,
   "metadata": {},
   "outputs": [
    {
     "name": "stdout",
     "output_type": "stream",
     "text": [
      "[\n",
      "    {\n",
      "        \"chromosome\": \"5\", \n",
      "        \"donorId\": \"DO14814\", \n",
      "        \"end\": 137781425, \n",
      "        \"genes\": [\n",
      "            {\n",
      "                \"biotype\": \"protein_coding\", \n",
      "                \"chromosome\": \"5\", \n",
      "                \"consequence\": [\n",
      "                    {\n",
      "                        \"consequenceType\": \"downstream_gene_variant\", \n",
      "                        \"functionalImpact\": \"Unknown\"\n",
      "                    }, \n",
      "                    {\n",
      "                        \"consequenceType\": \"downstream_gene_variant\", \n",
      "                        \"functionalImpact\": \"Unknown\"\n",
      "                    }, \n",
      "                    {\n",
      "                        \"consequenceType\": \"downstream_gene_variant\", \n",
      "                        \"functionalImpact\": \"Unknown\"\n",
      "                    }, \n",
      "                    {\n",
      "                        \"consequenceType\": \"exon_variant\", \n",
      "                        \"functionalImpact\": \"Unknown\"\n",
      "                    }, \n",
      "                    {\n",
      "                        \"consequenceType\": \"synonymous_variant\", \n",
      "                        \"functionalImpact\": \"Unknown\"\n",
      "                    }, \n",
      "                    {\n",
      "                        \"consequenceType\": \"downstream_gene_variant\", \n",
      "                        \"functionalImpact\": \"Unknown\"\n",
      "                    }, \n",
      "                    {\n",
      "                        \"consequenceType\": \"synonymous_variant\", \n",
      "                        \"functionalImpact\": \"Unknown\"\n",
      "                    }, \n",
      "                    {\n",
      "                        \"consequenceType\": \"downstream_gene_variant\", \n",
      "                        \"functionalImpact\": \"Unknown\"\n",
      "                    }, \n",
      "                    {\n",
      "                        \"consequenceType\": \"synonymous_variant\", \n",
      "                        \"functionalImpact\": \"Unknown\"\n",
      "                    }, \n",
      "                    {\n",
      "                        \"consequenceType\": \"downstream_gene_variant\", \n",
      "                        \"functionalImpact\": \"Unknown\"\n",
      "                    }\n",
      "                ], \n",
      "                \"geneId\": \"ENSG00000132563\"\n",
      "            }\n",
      "        ], \n",
      "        \"mutation\": \"G>A\", \n",
      "        \"mutationId\": \"MU91664692\", \n",
      "        \"observations\": [\n",
      "            {\n",
      "                \"icgcSampleId\": \"SA494078\", \n",
      "                \"icgcSpecimenId\": \"SP31334\", \n",
      "                \"matchedICGCSampleId\": \"SA494079\", \n",
      "                \"mutantAlleleReadCount\": 9, \n",
      "                \"platform\": \"Illumina HiSeq\", \n",
      "                \"rawDataAccession\": \"FI12083:FI12082\", \n",
      "                \"sequencingStrategy\": \"WGS\", \n",
      "                \"submittedMatchedSampleId\": \"TCGA-CN-6989-10A-01D-A32X-10\", \n",
      "                \"submittedSampleId\": \"TCGA-CN-6989-01A-11D-A32X-10\", \n",
      "                \"totalReadCount\": 42, \n",
      "                \"variationCallingAlgorithm\": \"PCAWG Consensus SNV-MNV caller\", \n",
      "                \"verificationStatus\": \"not tested\"\n",
      "            }\n",
      "        ], \n",
      "        \"projectId\": \"HNSC-US\", \n",
      "        \"start\": 137781425\n",
      "    }\n",
      "]\n"
     ]
    }
   ],
   "source": [
    "ocurrences=icgc.query(request_type='occurrences', pql='select(*),limit(1)')\n",
    "print(ocurrences)                    "
   ]
  },
  {
   "cell_type": "markdown",
   "metadata": {},
   "source": [
    "## Here's a more advanced demonstration "
   ]
  },
  {
   "cell_type": "markdown",
   "metadata": {},
   "source": [
    "_Get a count of the available donor data by cancer site_"
   ]
  },
  {
   "cell_type": "code",
   "execution_count": 16,
   "metadata": {
    "scrolled": true
   },
   "outputs": [
    {
     "name": "stdout",
     "output_type": "stream",
     "text": [
      "{\n",
      "    \"primarySite\": {\n",
      "        \"missing\": 0, \n",
      "        \"terms\": [\n",
      "            {\n",
      "                \"count\": 2828, \n",
      "                \"term\": \"Blood\"\n",
      "            }, \n",
      "            {\n",
      "                \"count\": 1976, \n",
      "                \"term\": \"Breast\"\n",
      "            }, \n",
      "            {\n",
      "                \"count\": 1745, \n",
      "                \"term\": \"Brain\"\n",
      "            }, \n",
      "            {\n",
      "                \"count\": 1549, \n",
      "                \"term\": \"Liver\"\n",
      "            }, \n",
      "            {\n",
      "                \"count\": 1345, \n",
      "                \"term\": \"Head and neck\"\n",
      "            }, \n",
      "            {\n",
      "                \"count\": 1212, \n",
      "                \"term\": \"Kidney\"\n",
      "            }, \n",
      "            {\n",
      "                \"count\": 1102, \n",
      "                \"term\": \"Lung\"\n",
      "            }, \n",
      "            {\n",
      "                \"count\": 1077, \n",
      "                \"term\": \"Prostate\"\n",
      "            }, \n",
      "            {\n",
      "                \"count\": 1058, \n",
      "                \"term\": \"Pancreas\"\n",
      "            }, \n",
      "            {\n",
      "                \"count\": 921, \n",
      "                \"term\": \"Colorectal\"\n",
      "            }, \n",
      "            {\n",
      "                \"count\": 734, \n",
      "                \"term\": \"Skin\"\n",
      "            }, \n",
      "            {\n",
      "                \"count\": 721, \n",
      "                \"term\": \"Esophagus\"\n",
      "            }, \n",
      "            {\n",
      "                \"count\": 679, \n",
      "                \"term\": \"Ovary\"\n",
      "            }, \n",
      "            {\n",
      "                \"count\": 606, \n",
      "                \"term\": \"Nervous System\"\n",
      "            }, \n",
      "            {\n",
      "                \"count\": 588, \n",
      "                \"term\": \"Stomach\"\n",
      "            }, \n",
      "            {\n",
      "                \"count\": 555, \n",
      "                \"term\": \"Uterus\"\n",
      "            }, \n",
      "            {\n",
      "                \"count\": 515, \n",
      "                \"term\": \"Bladder\"\n",
      "            }, \n",
      "            {\n",
      "                \"count\": 328, \n",
      "                \"term\": \"Mesenchymal\"\n",
      "            }, \n",
      "            {\n",
      "                \"count\": 308, \n",
      "                \"term\": \"Cervix\"\n",
      "            }, \n",
      "            {\n",
      "                \"count\": 251, \n",
      "                \"term\": \"Gall Bladder\"\n",
      "            }, \n",
      "            {\n",
      "                \"count\": 245, \n",
      "                \"term\": \"Bone\"\n",
      "            }\n",
      "        ], \n",
      "        \"total\": 20343, \n",
      "        \"type\": \"terms\"\n",
      "    }, \n",
      "    \"total\": 20343\n",
      "}\n"
     ]
    }
   ],
   "source": [
    "cancerSites=icgc.query(request_type='donors', pql='count(),facets(primarySite)')\n",
    "print(cancerSites)"
   ]
  },
  {
   "cell_type": "markdown",
   "metadata": {},
   "source": [
    "_Take our data for cancer sites, and extract the labels and the corresponding values_"
   ]
  },
  {
   "cell_type": "code",
   "execution_count": 17,
   "metadata": {},
   "outputs": [],
   "source": [
    "import numpy as np\n",
    "import matplotlib.pyplot as plt\n",
    "import json\n"
   ]
  },
  {
   "cell_type": "markdown",
   "metadata": {},
   "source": [
    "_Import python graphing libraries_"
   ]
  },
  {
   "cell_type": "code",
   "execution_count": 18,
   "metadata": {},
   "outputs": [],
   "source": [
    "data=json.loads(cancerSites)[\"primarySite\"][\"terms\"]\n",
    "\n",
    "labels=map(lambda x:x[\"term\"],data)\n",
    "numbers=map(lambda x:x[\"count\"],data)\n"
   ]
  },
  {
   "cell_type": "markdown",
   "metadata": {},
   "source": [
    "_Draw a bar chart of our results_"
   ]
  },
  {
   "cell_type": "code",
   "execution_count": 19,
   "metadata": {},
   "outputs": [
    {
     "data": {
      "image/png": "[encoded data removed]",
      "text/plain": [
       "<matplotlib.figure.Figure at 0x105238c10>"
      ]
     },
     "metadata": {},
     "output_type": "display_data"
    }
   ],
   "source": [
    "n=len(data)\n",
    "fig, ax = plt.subplots(figsize=(25,10))\n",
    "index = np.arange(n)\n",
    "\n",
    "bar_width = 0.9\n",
    "opacity = 0.4\n",
    "ax.set_title('Cancer Data Availability by Donor Type')\n",
    "ax.set_xticks(index)\n",
    "ax.set_xticklabels(labels)\n",
    "\n",
    "rects1 = ax.bar(index, numbers, bar_width,\n",
    "                alpha=opacity, color='b')\n",
    "fig.tight_layout()\n",
    "plt.show()"
   ]
  },
  {
   "cell_type": "code",
   "execution_count": 20,
   "metadata": {},
   "outputs": [
    {
     "data": {
      "text/plain": [
       "[u'Blood',\n",
       " u'Breast',\n",
       " u'Brain',\n",
       " u'Liver',\n",
       " u'Head and neck',\n",
       " u'Kidney',\n",
       " u'Lung',\n",
       " u'Prostate',\n",
       " u'Pancreas',\n",
       " u'Colorectal',\n",
       " u'Skin',\n",
       " u'Esophagus',\n",
       " u'Ovary',\n",
       " u'Nervous System',\n",
       " u'Stomach',\n",
       " u'Uterus',\n",
       " u'Bladder',\n",
       " u'Mesenchymal',\n",
       " u'Cervix',\n",
       " u'Gall Bladder',\n",
       " u'Bone']"
      ]
     },
     "execution_count": 20,
     "metadata": {},
     "output_type": "execute_result"
    }
   ],
   "source": [
    "labels"
   ]
  },
  {
   "cell_type": "code",
   "execution_count": null,
   "metadata": {},
   "outputs": [],
   "source": []
  },
  {
   "cell_type": "code",
   "execution_count": null,
   "metadata": {},
   "outputs": [],
   "source": []
  },
  {
   "cell_type": "code",
   "execution_count": null,
   "metadata": {},
   "outputs": [],
   "source": []
  },
  {
   "cell_type": "code",
   "execution_count": null,
   "metadata": {},
   "outputs": [],
   "source": []
  }
 ],
 "metadata": {
  "kernelspec": {
   "display_name": "Python 3",
   "language": "python",
   "name": "python3"
  },
  "language_info": {
   "codemirror_mode": {
    "name": "ipython",
    "version": 2
   },
   "file_extension": ".py",
   "mimetype": "text/x-python",
   "name": "python",
   "nbconvert_exporter": "python",
   "pygments_lexer": "ipython2",
   "version": "2.7.14"
  }
 },
 "nbformat": 4,
 "nbformat_minor": 2
}
